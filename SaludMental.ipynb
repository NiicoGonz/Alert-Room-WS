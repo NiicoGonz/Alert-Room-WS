{
  "nbformat": 4,
  "nbformat_minor": 0,
  "metadata": {
    "colab": {
      "provenance": [],
      "authorship_tag": "ABX9TyNcWKFuoeogE4RjaU9XskG4",
      "include_colab_link": true
    },
    "kernelspec": {
      "name": "python3",
      "display_name": "Python 3"
    },
    "language_info": {
      "name": "python"
    }
  },
  "cells": [
    {
      "cell_type": "markdown",
      "metadata": {
        "id": "view-in-github",
        "colab_type": "text"
      },
      "source": [
        "<a href=\"https://colab.research.google.com/github/NiicoGonz/Alert-Room-WS/blob/master/SaludMental.ipynb\" target=\"_parent\"><img src=\"https://colab.research.google.com/assets/colab-badge.svg\" alt=\"Open In Colab\"/></a>"
      ]
    },
    {
      "cell_type": "code",
      "execution_count": 5,
      "metadata": {
        "colab": {
          "base_uri": "https://localhost:8080/"
        },
        "id": "6HECHNBayY5w",
        "outputId": "fa078ca2-68a0-4439-c932-878371d5eec5"
      },
      "outputs": [
        {
          "output_type": "stream",
          "name": "stderr",
          "text": [
            "<ipython-input-5-96c0bca0ab55>:22: DtypeWarning: Columns (5,6) have mixed types. Specify dtype option on import or set low_memory=False.\n",
            "  raw_data = pd.read_csv('healtData.csv')\n",
            "<ipython-input-5-96c0bca0ab55>:28: DeprecationWarning: In a future version, `df.iloc[:, i] = newvals` will attempt to set the values inplace instead of always setting a new array. To retain the old behavior, use either `df[df.columns[i]] = newvals` or, if columns are non-unique, `df.isetitem(i, newvals)`\n",
            "  mental_health_disorder_share.iloc[:, 2:] = mental_health_disorder_share.iloc[:, 2:].apply(pd.to_numeric)\n"
          ]
        }
      ],
      "source": [
        "import numpy as np\n",
        "import pandas as pd\n",
        "import geopandas as gpd\n",
        "\n",
        "import matplotlib.pyplot as plt\n",
        "import seaborn as sns\n",
        "import plotly.express as px\n",
        "\n",
        "def load_gpd_world():\n",
        "    world = gpd.read_file(gpd.datasets.get_path('naturalearth_lowres'))\n",
        "    # Correcion de codigos de paises.\n",
        "    world.loc[world['name'] == 'France', 'iso_a3'] = 'FRA'\n",
        "    world.loc[world['name'] == 'Norway', 'iso_a3'] = 'NOR'\n",
        "    world.loc[world['name'] == 'Somaliland', 'iso_a3'] = 'SOM'\n",
        "    world.loc[world['name'] == 'Kosovo', 'iso_a3'] = 'RKS'\n",
        "\n",
        "    # correcion de las dos columnas para somalia\n",
        "    world = world.dissolve(by='iso_a3').reset_index()\n",
        "\n",
        "    return world\n",
        "# leyendo el archivo csv\n",
        "raw_data = pd.read_csv('healtData.csv')\n",
        "#Eliminamos el index que no vamos a usar\n",
        "del raw_data['index']\n",
        "#Correcion de la variable de años por las distintas tablas\n",
        "raw_data[raw_data.Year == 'Year']\n",
        "#dividimos en las subtablas\n",
        "\n",
        "mental_health_disorder_share = raw_data.iloc[:6468].copy()\n",
        "mental_health_disorder_share.columns = ['country', 'country_code', 'year','schizophrenia', 'bipolar','eating', 'anxiety','drug_use', 'depression','alcohol_use']\n",
        "mental_health_disorder_share.iloc[:, 2:] = mental_health_disorder_share.iloc[:, 2:].apply(pd.to_numeric)\n",
        "## Tabla 2\n",
        "disorder_per_sex = raw_data.iloc[6469:54276, :6].copy()\n",
        "disorder_per_sex.columns = ['country', 'country_code', 'year','males_share', 'females_share','population']\n",
        "disorder_per_sex.iloc[:, 3:] = disorder_per_sex.iloc[:, 3:].apply(pd.to_numeric)\n",
        "## Tabla 3\n",
        "suicide_depression = raw_data.iloc[54277:102084, :6].copy()\n",
        "suicide_depression.columns = ['country', 'country_code', 'year','suicide', 'depression','population']\n",
        "suicide_depression.iloc[:, 3:] = suicide_depression.iloc[:, 3:].apply(pd.to_numeric)\n",
        "## Tabla 4\n",
        "depression_prevalence = raw_data.iloc[102085:, :4].copy()\n",
        "depression_prevalence.columns = ['country', 'country_code', 'year','prevalence']\n",
        "depression_prevalence.iloc[:, 3:] = depression_prevalence.iloc[:, 3:].apply(pd.to_numeric)\n",
        "## Tabla auxiliar con la población global para la agregación de participaciones\n",
        "population_per_year = (disorder_per_sex\n",
        "                           .dropna()\n",
        "                           .loc[disorder_per_sex.country_code != 'OWID_WRL',['country_code', 'year', 'population']]\n",
        "                           .copy()\n",
        "                      )\n",
        "population_per_year['year'] = pd.to_numeric(population_per_year['year'])\n",
        "population_per_year['population'] = pd.to_numeric(population_per_year['population'])\n",
        "# Exportar DataFrames a un archivo Excel\n",
        "with pd.ExcelWriter('datos_salud_mental.xlsx') as writer:\n",
        "    mental_health_disorder_share.to_excel(writer, sheet_name='Salud Mental')\n",
        "    disorder_per_sex.to_excel(writer, sheet_name='Trastorno por Sexo')\n",
        "    suicide_depression.to_excel(writer, sheet_name='Suicidio y Depresión')\n",
        "    depression_prevalence.to_excel(writer, sheet_name='Prevalencia de Depresión')\n",
        "    population_per_year.to_excel(writer, sheet_name='Población por Año')\n"
      ]
    }
  ]
}